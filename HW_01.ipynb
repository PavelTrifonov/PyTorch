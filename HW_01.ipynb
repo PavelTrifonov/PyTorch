{
  "nbformat": 4,
  "nbformat_minor": 0,
  "metadata": {
    "colab": {
      "provenance": [],
      "toc_visible": true
    },
    "kernelspec": {
      "name": "python3",
      "display_name": "Python 3"
    },
    "language_info": {
      "name": "python"
    }
  },
  "cells": [
    {
      "cell_type": "code",
      "execution_count": 1,
      "metadata": {
        "id": "JggtqDbGAMeW"
      },
      "outputs": [],
      "source": [
        "import torch"
      ]
    },
    {
      "cell_type": "code",
      "source": [
        "# Создаем случайный FloatTensor размера 3x4x5\n",
        "random_tensor = torch.randn(3, 4, 5)\n",
        "random_tensor"
      ],
      "metadata": {
        "colab": {
          "base_uri": "https://localhost:8080/"
        },
        "id": "BEVW4OkdAZO2",
        "outputId": "fe21ba28-d135-4efa-b307-9db41739655a"
      },
      "execution_count": 6,
      "outputs": [
        {
          "output_type": "execute_result",
          "data": {
            "text/plain": [
              "tensor([[[ 1.3169, -0.9521,  1.0111, -1.1806, -1.0761],\n",
              "         [-0.9619,  0.9501, -1.4280, -1.0918,  0.0741],\n",
              "         [ 0.7737,  0.8095,  0.1958, -0.1967, -0.0051],\n",
              "         [ 0.0322,  0.2119,  0.7124,  0.2878,  0.0564]],\n",
              "\n",
              "        [[ 0.0228, -0.4917,  0.3374, -0.7351, -1.3387],\n",
              "         [ 0.6831, -0.2667, -0.5310, -0.5048,  0.5440],\n",
              "         [ 2.0801, -1.9520, -1.4782, -0.7276,  0.6505],\n",
              "         [-0.9723,  0.9760, -1.0350, -0.5428,  1.0033]],\n",
              "\n",
              "        [[ 1.6036, -0.9024, -1.7728, -0.2298,  1.4493],\n",
              "         [ 1.8306,  0.4665, -0.2318, -0.1313, -0.5439],\n",
              "         [ 0.6826,  0.0250, -0.6283, -0.1593, -0.6836],\n",
              "         [ 2.4823,  0.0436,  0.8385,  1.2380, -0.1272]]])"
            ]
          },
          "metadata": {},
          "execution_count": 6
        }
      ]
    },
    {
      "cell_type": "code",
      "source": [
        "# Выводим его форму (shape)\n",
        "print(random_tensor.shape)"
      ],
      "metadata": {
        "colab": {
          "base_uri": "https://localhost:8080/"
        },
        "id": "rAHFl5qwBM55",
        "outputId": "c0cb34de-0ff0-4c70-e874-2a322c20e676"
      },
      "execution_count": 7,
      "outputs": [
        {
          "output_type": "stream",
          "name": "stdout",
          "text": [
            "torch.Size([3, 4, 5])\n"
          ]
        }
      ]
    },
    {
      "cell_type": "code",
      "source": [
        "# Изменяем форму на 6x10\n",
        "reshaped_tensor = random_tensor.reshape(6, 10)\n",
        "reshaped_tensor"
      ],
      "metadata": {
        "colab": {
          "base_uri": "https://localhost:8080/"
        },
        "id": "FrhF0CqnBvIG",
        "outputId": "e09c6d22-e99a-4e96-a31c-7ec1aeea1690"
      },
      "execution_count": 13,
      "outputs": [
        {
          "output_type": "execute_result",
          "data": {
            "text/plain": [
              "tensor([[ 1.3169, -0.9521,  1.0111, -1.1806, -1.0761, -0.9619,  0.9501, -1.4280,\n",
              "         -1.0918,  0.0741],\n",
              "        [ 0.7737,  0.8095,  0.1958, -0.1967, -0.0051,  0.0322,  0.2119,  0.7124,\n",
              "          0.2878,  0.0564],\n",
              "        [ 0.0228, -0.4917,  0.3374, -0.7351, -1.3387,  0.6831, -0.2667, -0.5310,\n",
              "         -0.5048,  0.5440],\n",
              "        [ 2.0801, -1.9520, -1.4782, -0.7276,  0.6505, -0.9723,  0.9760, -1.0350,\n",
              "         -0.5428,  1.0033],\n",
              "        [ 1.6036, -0.9024, -1.7728, -0.2298,  1.4493,  1.8306,  0.4665, -0.2318,\n",
              "         -0.1313, -0.5439],\n",
              "        [ 0.6826,  0.0250, -0.6283, -0.1593, -0.6836,  2.4823,  0.0436,  0.8385,\n",
              "          1.2380, -0.1272]])"
            ]
          },
          "metadata": {},
          "execution_count": 13
        }
      ]
    },
    {
      "cell_type": "code",
      "source": [
        "# Определяем вектор\n",
        "vector = torch.tensor([1, 4, 2, 2, 1])\n",
        "\n",
        "# Поскольку размерность вектора (5), его нужно расширить до формы (6, 10).\n",
        "# Для этого мы повторим его и затем расширим.\n",
        "# Вектор будет расширен по оси 1 (вторая ось).\n",
        "# Мы создаем новый вектор размером (6, 10), повторяя вектор по оси 1 и затем по оси 0.\n",
        "expanded_vector = vector.repeat(2)  # Повторим вектор до длины 10\n",
        "expanded_vector = expanded_vector.reshape(1, 10).expand(6, 10)  # Расширим до формы (6, 10)\n",
        "\n",
        "# Умножаем тензор поэлементно\n",
        "result_tensor = reshaped_tensor * expanded_vector\n",
        "result_tensor"
      ],
      "metadata": {
        "colab": {
          "base_uri": "https://localhost:8080/"
        },
        "id": "-wTgROafB-gM",
        "outputId": "79397a0e-7142-4eeb-eda6-409dc19b242e"
      },
      "execution_count": 17,
      "outputs": [
        {
          "output_type": "execute_result",
          "data": {
            "text/plain": [
              "tensor([[ 1.3169e+00, -3.8082e+00,  2.0222e+00, -2.3611e+00, -1.0761e+00,\n",
              "         -9.6192e-01,  3.8004e+00, -2.8560e+00, -2.1836e+00,  7.4139e-02],\n",
              "        [ 7.7368e-01,  3.2382e+00,  3.9161e-01, -3.9349e-01, -5.0613e-03,\n",
              "          3.2188e-02,  8.4763e-01,  1.4248e+00,  5.7552e-01,  5.6402e-02],\n",
              "        [ 2.2796e-02, -1.9668e+00,  6.7490e-01, -1.4703e+00, -1.3387e+00,\n",
              "          6.8308e-01, -1.0667e+00, -1.0620e+00, -1.0097e+00,  5.4400e-01],\n",
              "        [ 2.0801e+00, -7.8078e+00, -2.9565e+00, -1.4552e+00,  6.5050e-01,\n",
              "         -9.7232e-01,  3.9041e+00, -2.0701e+00, -1.0856e+00,  1.0033e+00],\n",
              "        [ 1.6036e+00, -3.6095e+00, -3.5457e+00, -4.5961e-01,  1.4493e+00,\n",
              "          1.8306e+00,  1.8660e+00, -4.6367e-01, -2.6264e-01, -5.4393e-01],\n",
              "        [ 6.8256e-01,  1.0015e-01, -1.2567e+00, -3.1851e-01, -6.8357e-01,\n",
              "          2.4823e+00,  1.7439e-01,  1.6771e+00,  2.4760e+00, -1.2716e-01]])"
            ]
          },
          "metadata": {},
          "execution_count": 17
        }
      ]
    },
    {
      "cell_type": "code",
      "source": [
        "# Усечем тензор до размерности (6, 6)\n",
        "truncated_tensor = reshaped_tensor[:, :6]\n",
        "\n",
        "# Матрично умножаем на его транспонированную версию\n",
        "result_tensor = torch.matmul(truncated_tensor, truncated_tensor.T)\n",
        "\n",
        "print(result_tensor)"
      ],
      "metadata": {
        "colab": {
          "base_uri": "https://localhost:8080/"
        },
        "id": "SMc8_KsGCVH5",
        "outputId": "6dc376a4-5f93-4b1b-cc7f-9b2594be401f"
      },
      "execution_count": 18,
      "outputs": [
        {
          "output_type": "stream",
          "name": "stdout",
          "text": [
            "tensor([[ 7.1402,  0.6529,  2.4908,  4.1973, -1.8708, -1.2244],\n",
            "        [ 0.6529,  1.3321, -0.1409, -0.1517,  0.2598,  0.5400],\n",
            "        [ 2.4908, -0.1409,  3.1554, -0.4918, -0.6388,  2.5190],\n",
            "        [ 4.1973, -0.1517, -0.4918, 12.2201,  7.0477, -0.4427],\n",
            "        [-1.8708,  0.2598, -0.6388,  7.0477, 12.0330,  5.7758],\n",
            "        [-1.2244,  0.5400,  2.5190, -0.4427,  5.7758,  7.5157]])\n"
          ]
        }
      ]
    },
    {
      "cell_type": "code",
      "source": [
        "# Посчитайте производную функции y = x**3 + z - 75t в точке (1, 0.5, 2)\n",
        "# Определяем переменные с флагом requires_grad=True\n",
        "x = torch.tensor(1.0, requires_grad=True)\n",
        "z = torch.tensor(0.5, requires_grad=True)\n",
        "t = torch.tensor(2.0, requires_grad=True)\n",
        "\n",
        "# Определяем функцию y\n",
        "y = x**3 + z - 75*t\n",
        "\n",
        "# Выполняем обратное распространение\n",
        "y.backward()\n",
        "\n",
        "# Выводим значения градиентов\n",
        "print(f\"Частная производная по x: {x.grad.item()}\")\n",
        "print(f\"Частная производная по z: {z.grad.item()}\")\n",
        "print(f\"Частная производная по t: {t.grad.item()}\")"
      ],
      "metadata": {
        "colab": {
          "base_uri": "https://localhost:8080/"
        },
        "id": "aknu8z6wGNqm",
        "outputId": "b26d2dd9-9cf8-4937-d7a1-619acd40e795"
      },
      "execution_count": 19,
      "outputs": [
        {
          "output_type": "stream",
          "name": "stdout",
          "text": [
            "Частная производная по x: 3.0\n",
            "Частная производная по z: 1.0\n",
            "Частная производная по t: -75.0\n"
          ]
        }
      ]
    },
    {
      "cell_type": "code",
      "source": [
        "# Создаем единичный тензор размером 5x6\n",
        "tensor_ones = torch.ones(5, 6)\n",
        "\n",
        "print(tensor_ones)"
      ],
      "metadata": {
        "colab": {
          "base_uri": "https://localhost:8080/"
        },
        "id": "yp2GufZuGqRG",
        "outputId": "b80794fb-96e1-434b-fc69-40a48bb25e61"
      },
      "execution_count": 20,
      "outputs": [
        {
          "output_type": "stream",
          "name": "stdout",
          "text": [
            "tensor([[1., 1., 1., 1., 1., 1.],\n",
            "        [1., 1., 1., 1., 1., 1.],\n",
            "        [1., 1., 1., 1., 1., 1.],\n",
            "        [1., 1., 1., 1., 1., 1.],\n",
            "        [1., 1., 1., 1., 1., 1.]])\n"
          ]
        }
      ]
    },
    {
      "cell_type": "code",
      "source": [
        "# Переводим тензор в формат NumPy\n",
        "numpy_array = tensor_ones.numpy()\n",
        "\n",
        "print(numpy_array)"
      ],
      "metadata": {
        "colab": {
          "base_uri": "https://localhost:8080/"
        },
        "id": "1q7YFJbfGyRo",
        "outputId": "e2abbdd0-64ea-489d-8dcc-847e431aed5e"
      },
      "execution_count": 21,
      "outputs": [
        {
          "output_type": "stream",
          "name": "stdout",
          "text": [
            "[[1. 1. 1. 1. 1. 1.]\n",
            " [1. 1. 1. 1. 1. 1.]\n",
            " [1. 1. 1. 1. 1. 1.]\n",
            " [1. 1. 1. 1. 1. 1.]\n",
            " [1. 1. 1. 1. 1. 1.]]\n"
          ]
        }
      ]
    },
    {
      "cell_type": "code",
      "source": [
        "# Определяем переменные с флагом requires_grad=True\n",
        "x = torch.tensor(1.0, requires_grad=False)  # Входное значение (фиксированное)\n",
        "w1 = torch.tensor(1.0, requires_grad=True)  # Параметр для оптимизации\n",
        "\n",
        "# Определяем функцию y\n",
        "def func(x, w1):\n",
        "    return x**w1 - 2 * x**2 + 5\n",
        "\n",
        "# Определяем оптимизатор\n",
        "optimizer = torch.optim.SGD([w1], lr=0.01)\n",
        "\n",
        "# Оптимизация\n",
        "num_iterations = 1000\n",
        "for _ in range(num_iterations):\n",
        "    # Вычисляем значение функции\n",
        "    y = func(x, w1)\n",
        "    # Вычисляем градиенты\n",
        "    y.backward()\n",
        "    # Выполняем шаг оптимизации\n",
        "    optimizer.step()\n",
        "    # Обнуляем градиенты\n",
        "    optimizer.zero_grad()\n",
        "# Выводим оптимальное значение w1\n",
        "print(f\"Оптимальное значение w1: {w1.item()}\")"
      ],
      "metadata": {
        "colab": {
          "base_uri": "https://localhost:8080/"
        },
        "id": "Y3M4qN0XG8NB",
        "outputId": "7899b1f4-2dd7-483e-b95e-93bf6d26cc60"
      },
      "execution_count": 22,
      "outputs": [
        {
          "output_type": "stream",
          "name": "stdout",
          "text": [
            "Оптимальное значение w1: 1.0\n"
          ]
        }
      ]
    }
  ]
}